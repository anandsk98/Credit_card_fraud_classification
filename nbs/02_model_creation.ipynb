{
 "cells": [
  {
   "cell_type": "markdown",
   "id": "fb133834",
   "metadata": {},
   "source": [
    "# ` Binary Classification ` Model Creation"
   ]
  },
  {
   "cell_type": "markdown",
   "id": "5cebe364",
   "metadata": {},
   "source": [
    "## Scope\n",
    "\n",
    "Do a binary classification model for credit card fraud detection.\n",
    "\n",
    "- Do basic EDA on features.\n",
    "\n",
    "- Feature selection:- \n",
    "\n",
    "    1. Train test split\n",
    "    \n",
    "    2. Balance dataset\n",
    "\n",
    "    3. Check for correlation between features and target variable and select suitable features.\n",
    "    \n",
    "    4. Compare different classification models and choose most suitable.\n",
    "    \n",
    "    5. Choose final model and tune hyperparameters."
   ]
  },
  {
   "cell_type": "markdown",
   "id": "190495d9",
   "metadata": {},
   "source": [
    "## Summary\n",
    "\n",
    "- We defined the problem statement as a binary classifcation problem.\n",
    "\n",
    "- Found the optimum train-test-split of 70% train data 10% delay period 20% test data.\n",
    "\n",
    "- Used SMOTE to oversample the minority class and then RandomUnderSampler to undersample.\n",
    "\n",
    "- Selected 14 best features using mutual information.\n",
    "\n",
    "- Used Precision Top k, Average Precision and AUC-ROC score as metric.\n",
    "\n",
    "- Compared multiple classification models and chose Random Forest as the best one.\n",
    "\n",
    "- Hyperparameter tuned the final model for the best test accuracy."
   ]
  },
  {
   "cell_type": "markdown",
   "id": "1adb09d6",
   "metadata": {},
   "source": [
    "### Imports"
   ]
  },
  {
   "cell_type": "code",
   "execution_count": 1,
   "id": "748a2e6d",
   "metadata": {},
   "outputs": [],
   "source": [
    "import sys\n",
    "\n",
    "import pandas as pd\n",
    "import numpy as np\n",
    "import seaborn as sns\n",
    "import matplotlib.pyplot as plt\n",
    "\n",
    "import sklearn\n",
    "from sklearn.model_selection import train_test_split\n",
    "from sklearn.preprocessing import OneHotEncoder\n",
    "from sklearn.feature_selection import mutual_info_classif\n",
    "from sklearn.feature_selection import SelectKBest\n",
    "from sklearn.metrics import classification_report\n",
    "from sklearn.model_selection import cross_val_predict\n",
    "from sklearn.ensemble import RandomForestClassifier\n",
    "from sklearn.linear_model import LogisticRegression\n",
    "from sklearn.tree import DecisionTreeClassifier\n",
    "from sklearn.neighbors import KNeighborsClassifier\n",
    "from sklearn.svm import LinearSVC\n",
    "from sklearn.metrics import roc_auc_score\n",
    "from sklearn.metrics import roc_curve, auc\n",
    "from sklearn.metrics import precision_recall_curve\n",
    "from sklearn.metrics import average_precision_score\n",
    "from sklearn.metrics import make_scorer\n",
    "from sklearn.ensemble import AdaBoostClassifier\n",
    "from sklearn.model_selection import RandomizedSearchCV\n",
    "from sklearn.model_selection import StratifiedKFold\n",
    "\n",
    "from xgboost import XGBClassifier\n",
    "\n",
    "import imblearn\n",
    "from imblearn.over_sampling import SMOTE\n",
    "from imblearn.under_sampling import RandomUnderSampler\n",
    "\n",
    "import json\n",
    "\n",
    "import pickle as pk"
   ]
  },
  {
   "cell_type": "code",
   "execution_count": 2,
   "id": "ed5b6852",
   "metadata": {},
   "outputs": [
    {
     "name": "stdout",
     "output_type": "stream",
     "text": [
      "pandas:2.0.1\n",
      "numpy:1.23.5\n",
      "sklearn:1.2.2\n",
      "imblearn:0.10.1\n",
      "seaborn:0.12.2\n",
      "python:3.9.16 (main, Mar  8 2023, 10:39:24) [MSC v.1916 64 bit (AMD64)]\n"
     ]
    }
   ],
   "source": [
    "print(f'pandas:{pd.__version__}')\n",
    "print(f'numpy:{np.__version__}')\n",
    "print(f'sklearn:{sklearn.__version__}')\n",
    "print(f'imblearn:{imblearn.__version__}')\n",
    "print(f'seaborn:{sns.__version__}')\n",
    "print(f'python:{sys.version}')"
   ]
  },
  {
   "cell_type": "markdown",
   "id": "645fba38",
   "metadata": {},
   "source": [
    "## Path"
   ]
  },
  {
   "cell_type": "markdown",
   "id": "9744671d",
   "metadata": {},
   "source": [
    "<ins>**Change the BASE path to your folder location**</ins>"
   ]
  },
  {
   "cell_type": "code",
   "execution_count": 3,
   "id": "2fb2580f",
   "metadata": {},
   "outputs": [],
   "source": [
    "BASE = r\"C:\\\\Users\\\\anand\\\\Documents\\\\Credit_card_fraud_detection\"\n",
    "\n",
    "PATH = BASE + r\"\\\\data\\\\raw\\\\\"\n",
    "\n",
    "PROCESSED = BASE + r\"\\\\data\\\\processed\\\\\"\n",
    "\n",
    "EXPORT = BASE + r\"\\\\data\\\\model\\\\\""
   ]
  },
  {
   "cell_type": "markdown",
   "id": "a9645a5c",
   "metadata": {},
   "source": [
    "## Read Data"
   ]
  },
  {
   "cell_type": "code",
   "execution_count": 4,
   "id": "bc9dc2bb",
   "metadata": {},
   "outputs": [
    {
     "data": {
      "text/html": [
       "<div>\n",
       "<style scoped>\n",
       "    .dataframe tbody tr th:only-of-type {\n",
       "        vertical-align: middle;\n",
       "    }\n",
       "\n",
       "    .dataframe tbody tr th {\n",
       "        vertical-align: top;\n",
       "    }\n",
       "\n",
       "    .dataframe thead th {\n",
       "        text-align: right;\n",
       "    }\n",
       "</style>\n",
       "<table border=\"1\" class=\"dataframe\">\n",
       "  <thead>\n",
       "    <tr style=\"text-align: right;\">\n",
       "      <th></th>\n",
       "      <th>Time</th>\n",
       "      <th>V1</th>\n",
       "      <th>V2</th>\n",
       "      <th>V3</th>\n",
       "      <th>V4</th>\n",
       "      <th>V5</th>\n",
       "      <th>V6</th>\n",
       "      <th>V7</th>\n",
       "      <th>V8</th>\n",
       "      <th>V9</th>\n",
       "      <th>...</th>\n",
       "      <th>V21</th>\n",
       "      <th>V22</th>\n",
       "      <th>V23</th>\n",
       "      <th>V24</th>\n",
       "      <th>V25</th>\n",
       "      <th>V26</th>\n",
       "      <th>V27</th>\n",
       "      <th>V28</th>\n",
       "      <th>Amount</th>\n",
       "      <th>Class</th>\n",
       "    </tr>\n",
       "  </thead>\n",
       "  <tbody>\n",
       "    <tr>\n",
       "      <th>0</th>\n",
       "      <td>0.0</td>\n",
       "      <td>-1.359807</td>\n",
       "      <td>-0.072781</td>\n",
       "      <td>2.536347</td>\n",
       "      <td>1.378155</td>\n",
       "      <td>-0.338321</td>\n",
       "      <td>0.462388</td>\n",
       "      <td>0.239599</td>\n",
       "      <td>0.098698</td>\n",
       "      <td>0.363787</td>\n",
       "      <td>...</td>\n",
       "      <td>-0.018307</td>\n",
       "      <td>0.277838</td>\n",
       "      <td>-0.110474</td>\n",
       "      <td>0.066928</td>\n",
       "      <td>0.128539</td>\n",
       "      <td>-0.189115</td>\n",
       "      <td>0.133558</td>\n",
       "      <td>-0.021053</td>\n",
       "      <td>149.62</td>\n",
       "      <td>0</td>\n",
       "    </tr>\n",
       "    <tr>\n",
       "      <th>1</th>\n",
       "      <td>0.0</td>\n",
       "      <td>1.191857</td>\n",
       "      <td>0.266151</td>\n",
       "      <td>0.166480</td>\n",
       "      <td>0.448154</td>\n",
       "      <td>0.060018</td>\n",
       "      <td>-0.082361</td>\n",
       "      <td>-0.078803</td>\n",
       "      <td>0.085102</td>\n",
       "      <td>-0.255425</td>\n",
       "      <td>...</td>\n",
       "      <td>-0.225775</td>\n",
       "      <td>-0.638672</td>\n",
       "      <td>0.101288</td>\n",
       "      <td>-0.339846</td>\n",
       "      <td>0.167170</td>\n",
       "      <td>0.125895</td>\n",
       "      <td>-0.008983</td>\n",
       "      <td>0.014724</td>\n",
       "      <td>2.69</td>\n",
       "      <td>0</td>\n",
       "    </tr>\n",
       "    <tr>\n",
       "      <th>2</th>\n",
       "      <td>1.0</td>\n",
       "      <td>-1.358354</td>\n",
       "      <td>-1.340163</td>\n",
       "      <td>1.773209</td>\n",
       "      <td>0.379780</td>\n",
       "      <td>-0.503198</td>\n",
       "      <td>1.800499</td>\n",
       "      <td>0.791461</td>\n",
       "      <td>0.247676</td>\n",
       "      <td>-1.514654</td>\n",
       "      <td>...</td>\n",
       "      <td>0.247998</td>\n",
       "      <td>0.771679</td>\n",
       "      <td>0.909412</td>\n",
       "      <td>-0.689281</td>\n",
       "      <td>-0.327642</td>\n",
       "      <td>-0.139097</td>\n",
       "      <td>-0.055353</td>\n",
       "      <td>-0.059752</td>\n",
       "      <td>378.66</td>\n",
       "      <td>0</td>\n",
       "    </tr>\n",
       "    <tr>\n",
       "      <th>3</th>\n",
       "      <td>1.0</td>\n",
       "      <td>-0.966272</td>\n",
       "      <td>-0.185226</td>\n",
       "      <td>1.792993</td>\n",
       "      <td>-0.863291</td>\n",
       "      <td>-0.010309</td>\n",
       "      <td>1.247203</td>\n",
       "      <td>0.237609</td>\n",
       "      <td>0.377436</td>\n",
       "      <td>-1.387024</td>\n",
       "      <td>...</td>\n",
       "      <td>-0.108300</td>\n",
       "      <td>0.005274</td>\n",
       "      <td>-0.190321</td>\n",
       "      <td>-1.175575</td>\n",
       "      <td>0.647376</td>\n",
       "      <td>-0.221929</td>\n",
       "      <td>0.062723</td>\n",
       "      <td>0.061458</td>\n",
       "      <td>123.50</td>\n",
       "      <td>0</td>\n",
       "    </tr>\n",
       "    <tr>\n",
       "      <th>4</th>\n",
       "      <td>2.0</td>\n",
       "      <td>-1.158233</td>\n",
       "      <td>0.877737</td>\n",
       "      <td>1.548718</td>\n",
       "      <td>0.403034</td>\n",
       "      <td>-0.407193</td>\n",
       "      <td>0.095921</td>\n",
       "      <td>0.592941</td>\n",
       "      <td>-0.270533</td>\n",
       "      <td>0.817739</td>\n",
       "      <td>...</td>\n",
       "      <td>-0.009431</td>\n",
       "      <td>0.798278</td>\n",
       "      <td>-0.137458</td>\n",
       "      <td>0.141267</td>\n",
       "      <td>-0.206010</td>\n",
       "      <td>0.502292</td>\n",
       "      <td>0.219422</td>\n",
       "      <td>0.215153</td>\n",
       "      <td>69.99</td>\n",
       "      <td>0</td>\n",
       "    </tr>\n",
       "  </tbody>\n",
       "</table>\n",
       "<p>5 rows × 31 columns</p>\n",
       "</div>"
      ],
      "text/plain": [
       "   Time        V1        V2        V3        V4        V5        V6        V7   \n",
       "0   0.0 -1.359807 -0.072781  2.536347  1.378155 -0.338321  0.462388  0.239599  \\\n",
       "1   0.0  1.191857  0.266151  0.166480  0.448154  0.060018 -0.082361 -0.078803   \n",
       "2   1.0 -1.358354 -1.340163  1.773209  0.379780 -0.503198  1.800499  0.791461   \n",
       "3   1.0 -0.966272 -0.185226  1.792993 -0.863291 -0.010309  1.247203  0.237609   \n",
       "4   2.0 -1.158233  0.877737  1.548718  0.403034 -0.407193  0.095921  0.592941   \n",
       "\n",
       "         V8        V9  ...       V21       V22       V23       V24       V25   \n",
       "0  0.098698  0.363787  ... -0.018307  0.277838 -0.110474  0.066928  0.128539  \\\n",
       "1  0.085102 -0.255425  ... -0.225775 -0.638672  0.101288 -0.339846  0.167170   \n",
       "2  0.247676 -1.514654  ...  0.247998  0.771679  0.909412 -0.689281 -0.327642   \n",
       "3  0.377436 -1.387024  ... -0.108300  0.005274 -0.190321 -1.175575  0.647376   \n",
       "4 -0.270533  0.817739  ... -0.009431  0.798278 -0.137458  0.141267 -0.206010   \n",
       "\n",
       "        V26       V27       V28  Amount  Class  \n",
       "0 -0.189115  0.133558 -0.021053  149.62      0  \n",
       "1  0.125895 -0.008983  0.014724    2.69      0  \n",
       "2 -0.139097 -0.055353 -0.059752  378.66      0  \n",
       "3 -0.221929  0.062723  0.061458  123.50      0  \n",
       "4  0.502292  0.219422  0.215153   69.99      0  \n",
       "\n",
       "[5 rows x 31 columns]"
      ]
     },
     "execution_count": 4,
     "metadata": {},
     "output_type": "execute_result"
    }
   ],
   "source": [
    "# Read excel\n",
    "df = pd.read_csv(PATH + r\"creditcard.csv\")\n",
    "\n",
    "# Preview\n",
    "df.head()"
   ]
  },
  {
   "cell_type": "code",
   "execution_count": 5,
   "id": "76c3ca6c",
   "metadata": {},
   "outputs": [
    {
     "data": {
      "text/plain": [
       "(284807, 31)"
      ]
     },
     "execution_count": 5,
     "metadata": {},
     "output_type": "execute_result"
    }
   ],
   "source": [
    "# Shape of data\n",
    "df.shape"
   ]
  },
  {
   "cell_type": "code",
   "execution_count": 6,
   "id": "833a5e9f",
   "metadata": {
    "scrolled": true
   },
   "outputs": [
    {
     "data": {
      "text/plain": [
       "Class\n",
       "0    284315\n",
       "1       492\n",
       "Name: count, dtype: int64"
      ]
     },
     "execution_count": 6,
     "metadata": {},
     "output_type": "execute_result"
    }
   ],
   "source": [
    "# Unique values and counts of grade\n",
    "df.Class.value_counts()"
   ]
  },
  {
   "cell_type": "code",
   "execution_count": 7,
   "id": "f4ce56ec",
   "metadata": {},
   "outputs": [
    {
     "name": "stdout",
     "output_type": "stream",
     "text": [
      "Imbalance ratio: 0.17304750013189596\n"
     ]
    }
   ],
   "source": [
    "print('Imbalance ratio:', 492/284315 * 100)"
   ]
  },
  {
   "cell_type": "code",
   "execution_count": 8,
   "id": "33725037",
   "metadata": {},
   "outputs": [
    {
     "data": {
      "text/plain": [
       "284806    47.997778\n",
       "Name: Time, dtype: float64"
      ]
     },
     "execution_count": 8,
     "metadata": {},
     "output_type": "execute_result"
    }
   ],
   "source": [
    "# Last entry of time in hours\n",
    "df.Time[-1:] * 1/3600"
   ]
  },
  {
   "cell_type": "markdown",
   "id": "3026bfe8",
   "metadata": {},
   "source": [
    "The dataset is over a 2 day period. The Time variable could be utilized to created multiple features such as :-\n",
    "\n",
    "- Hour\n",
    "\n",
    "- Day/night"
   ]
  },
  {
   "cell_type": "code",
   "execution_count": 9,
   "id": "98529b42",
   "metadata": {},
   "outputs": [
    {
     "data": {
      "text/plain": [
       "0    0\n",
       "1    0\n",
       "2    0\n",
       "3    0\n",
       "4    0\n",
       "Name: hour, dtype: int32"
      ]
     },
     "execution_count": 9,
     "metadata": {},
     "output_type": "execute_result"
    }
   ],
   "source": [
    "# Make hour column\n",
    "df['hour'] = (df.Time * 1/3600).astype(int)\n",
    "\n",
    "# Preview\n",
    "df.hour.head()"
   ]
  },
  {
   "cell_type": "code",
   "execution_count": 10,
   "id": "f9cb483b",
   "metadata": {},
   "outputs": [
    {
     "data": {
      "text/plain": [
       "284802    47\n",
       "284803    47\n",
       "284804    47\n",
       "284805    47\n",
       "284806    47\n",
       "Name: hour, dtype: int32"
      ]
     },
     "execution_count": 10,
     "metadata": {},
     "output_type": "execute_result"
    }
   ],
   "source": [
    "# Preview\n",
    "df.hour.tail()"
   ]
  },
  {
   "cell_type": "code",
   "execution_count": 11,
   "id": "16a49a9b",
   "metadata": {},
   "outputs": [
    {
     "data": {
      "text/plain": [
       "284802    23\n",
       "284803    23\n",
       "284804    23\n",
       "284805    23\n",
       "284806    23\n",
       "Name: hour, dtype: int32"
      ]
     },
     "execution_count": 11,
     "metadata": {},
     "output_type": "execute_result"
    }
   ],
   "source": [
    "# Convert to 24 hour time period\n",
    "df['hour'] = df.hour % 24\n",
    "\n",
    "# Preview\n",
    "df.hour.tail()"
   ]
  },
  {
   "cell_type": "code",
   "execution_count": 12,
   "id": "3259de79",
   "metadata": {},
   "outputs": [
    {
     "data": {
      "text/plain": [
       "array([ 0,  1,  2,  3,  4,  5,  6,  7,  8,  9, 10, 11, 12, 13, 14, 15, 16,\n",
       "       17, 18, 19, 20, 21, 22, 23])"
      ]
     },
     "execution_count": 12,
     "metadata": {},
     "output_type": "execute_result"
    }
   ],
   "source": [
    "# Unique hour values\n",
    "df.hour.unique()"
   ]
  },
  {
   "cell_type": "code",
   "execution_count": 13,
   "id": "2cbd6bc5",
   "metadata": {},
   "outputs": [
    {
     "data": {
      "text/plain": [
       "hour\n",
       "21    17703\n",
       "18    17039\n",
       "11    16856\n",
       "20    16756\n",
       "10    16598\n",
       "14    16570\n",
       "15    16461\n",
       "16    16453\n",
       "17    16166\n",
       "9     15838\n",
       "19    15649\n",
       "22    15441\n",
       "12    15420\n",
       "13    15365\n",
       "23    10938\n",
       "8     10276\n",
       "0      7695\n",
       "7      7243\n",
       "1      4220\n",
       "6      4101\n",
       "3      3492\n",
       "2      3328\n",
       "5      2990\n",
       "4      2209\n",
       "Name: count, dtype: int64"
      ]
     },
     "execution_count": 13,
     "metadata": {},
     "output_type": "execute_result"
    }
   ],
   "source": [
    "# No of records for each hour\n",
    "df.hour.value_counts()"
   ]
  },
  {
   "cell_type": "markdown",
   "id": "bf53d9a3",
   "metadata": {},
   "source": [
    "Early hours have significantly low number of transactions with the later hours at night having most of the transactions."
   ]
  },
  {
   "cell_type": "code",
   "execution_count": 14,
   "id": "9d37436d",
   "metadata": {},
   "outputs": [
    {
     "data": {
      "text/plain": [
       "day_night\n",
       "1    174541\n",
       "0    110266\n",
       "Name: count, dtype: int64"
      ]
     },
     "execution_count": 14,
     "metadata": {},
     "output_type": "execute_result"
    }
   ],
   "source": [
    "# Day/night column\n",
    "df['day_night'] = np.where(df.hour<13,0,1)\n",
    "\n",
    "# Preview\n",
    "df.day_night.value_counts()"
   ]
  },
  {
   "cell_type": "markdown",
   "id": "357d2367",
   "metadata": {},
   "source": [
    "## Train-test Split"
   ]
  },
  {
   "cell_type": "markdown",
   "id": "d87d7c60",
   "metadata": {},
   "source": [
    "We will be performing feature engineering after train-test split, on training dataset seperately, to make sure there is no information leakage during testing.\n",
    "\n",
    "The testing dataset will be taken a certain time period after the training dataset. [Refer](https://fraud-detection-handbook.github.io/fraud-detection-handbook/Chapter_5_ModelValidationAndSelection/ValidationStrategies.html)\n",
    "\n",
    "70% Training 10% delay period 20% Test."
   ]
  },
  {
   "cell_type": "code",
   "execution_count": 15,
   "id": "cc0e8a38",
   "metadata": {},
   "outputs": [
    {
     "data": {
      "text/plain": [
       "138240"
      ]
     },
     "execution_count": 15,
     "metadata": {},
     "output_type": "execute_result"
    }
   ],
   "source": [
    "# Threshold for test split\n",
    "test_thres = int(48 * 3600 * 0.8)\n",
    "\n",
    "# Preview\n",
    "test_thres"
   ]
  },
  {
   "cell_type": "code",
   "execution_count": 16,
   "id": "336b1ff5",
   "metadata": {},
   "outputs": [
    {
     "data": {
      "text/plain": [
       "120959"
      ]
     },
     "execution_count": 16,
     "metadata": {},
     "output_type": "execute_result"
    }
   ],
   "source": [
    "# Train threshold\n",
    "train_thres = int(48 * 3600 * 0.7)\n",
    "\n",
    "# Preview\n",
    "train_thres"
   ]
  },
  {
   "cell_type": "code",
   "execution_count": 17,
   "id": "7b05e112",
   "metadata": {},
   "outputs": [
    {
     "data": {
      "text/plain": [
       "(172098, 31)"
      ]
     },
     "execution_count": 17,
     "metadata": {},
     "output_type": "execute_result"
    }
   ],
   "source": [
    "# Training set\n",
    "X_train = df[df.Time<train_thres].drop(['Time','Class'], axis=1)\n",
    "\n",
    "# Preview\n",
    "X_train.shape"
   ]
  },
  {
   "cell_type": "code",
   "execution_count": 18,
   "id": "6088a4a5",
   "metadata": {},
   "outputs": [
    {
     "data": {
      "text/plain": [
       "(172098,)"
      ]
     },
     "execution_count": 18,
     "metadata": {},
     "output_type": "execute_result"
    }
   ],
   "source": [
    "# Training set\n",
    "y_train = df[df.Time<train_thres].Class\n",
    "\n",
    "# Preview\n",
    "y_train.shape"
   ]
  },
  {
   "cell_type": "code",
   "execution_count": 19,
   "id": "599fe6af",
   "metadata": {},
   "outputs": [
    {
     "data": {
      "text/plain": [
       "(73749, 31)"
      ]
     },
     "execution_count": 19,
     "metadata": {},
     "output_type": "execute_result"
    }
   ],
   "source": [
    "# Testing set\n",
    "X_test = df[df.Time>=test_thres].drop(['Time','Class'], axis=1)\n",
    "\n",
    "# Preview\n",
    "X_test.shape"
   ]
  },
  {
   "cell_type": "code",
   "execution_count": 20,
   "id": "95ea76a6",
   "metadata": {},
   "outputs": [
    {
     "data": {
      "text/plain": [
       "(73749,)"
      ]
     },
     "execution_count": 20,
     "metadata": {},
     "output_type": "execute_result"
    }
   ],
   "source": [
    "# Testing set\n",
    "y_test = df[df.Time>=test_thres].Class\n",
    "\n",
    "# Preview\n",
    "y_test.shape"
   ]
  },
  {
   "cell_type": "code",
   "execution_count": 21,
   "id": "f0efc2f8",
   "metadata": {},
   "outputs": [
    {
     "data": {
      "text/html": [
       "<div>\n",
       "<style scoped>\n",
       "    .dataframe tbody tr th:only-of-type {\n",
       "        vertical-align: middle;\n",
       "    }\n",
       "\n",
       "    .dataframe tbody tr th {\n",
       "        vertical-align: top;\n",
       "    }\n",
       "\n",
       "    .dataframe thead th {\n",
       "        text-align: right;\n",
       "    }\n",
       "</style>\n",
       "<table border=\"1\" class=\"dataframe\">\n",
       "  <thead>\n",
       "    <tr style=\"text-align: right;\">\n",
       "      <th></th>\n",
       "      <th>V1</th>\n",
       "      <th>V2</th>\n",
       "      <th>V3</th>\n",
       "      <th>V4</th>\n",
       "      <th>V5</th>\n",
       "      <th>V6</th>\n",
       "      <th>V7</th>\n",
       "      <th>V8</th>\n",
       "      <th>V9</th>\n",
       "      <th>V10</th>\n",
       "      <th>...</th>\n",
       "      <th>V22</th>\n",
       "      <th>V23</th>\n",
       "      <th>V24</th>\n",
       "      <th>V25</th>\n",
       "      <th>V26</th>\n",
       "      <th>V27</th>\n",
       "      <th>V28</th>\n",
       "      <th>Amount</th>\n",
       "      <th>hour</th>\n",
       "      <th>day_night</th>\n",
       "    </tr>\n",
       "  </thead>\n",
       "  <tbody>\n",
       "    <tr>\n",
       "      <th>0</th>\n",
       "      <td>-1.359807</td>\n",
       "      <td>-0.072781</td>\n",
       "      <td>2.536347</td>\n",
       "      <td>1.378155</td>\n",
       "      <td>-0.338321</td>\n",
       "      <td>0.462388</td>\n",
       "      <td>0.239599</td>\n",
       "      <td>0.098698</td>\n",
       "      <td>0.363787</td>\n",
       "      <td>0.090794</td>\n",
       "      <td>...</td>\n",
       "      <td>0.277838</td>\n",
       "      <td>-0.110474</td>\n",
       "      <td>0.066928</td>\n",
       "      <td>0.128539</td>\n",
       "      <td>-0.189115</td>\n",
       "      <td>0.133558</td>\n",
       "      <td>-0.021053</td>\n",
       "      <td>149.62</td>\n",
       "      <td>0</td>\n",
       "      <td>0</td>\n",
       "    </tr>\n",
       "    <tr>\n",
       "      <th>1</th>\n",
       "      <td>1.191857</td>\n",
       "      <td>0.266151</td>\n",
       "      <td>0.166480</td>\n",
       "      <td>0.448154</td>\n",
       "      <td>0.060018</td>\n",
       "      <td>-0.082361</td>\n",
       "      <td>-0.078803</td>\n",
       "      <td>0.085102</td>\n",
       "      <td>-0.255425</td>\n",
       "      <td>-0.166974</td>\n",
       "      <td>...</td>\n",
       "      <td>-0.638672</td>\n",
       "      <td>0.101288</td>\n",
       "      <td>-0.339846</td>\n",
       "      <td>0.167170</td>\n",
       "      <td>0.125895</td>\n",
       "      <td>-0.008983</td>\n",
       "      <td>0.014724</td>\n",
       "      <td>2.69</td>\n",
       "      <td>0</td>\n",
       "      <td>0</td>\n",
       "    </tr>\n",
       "    <tr>\n",
       "      <th>2</th>\n",
       "      <td>-1.358354</td>\n",
       "      <td>-1.340163</td>\n",
       "      <td>1.773209</td>\n",
       "      <td>0.379780</td>\n",
       "      <td>-0.503198</td>\n",
       "      <td>1.800499</td>\n",
       "      <td>0.791461</td>\n",
       "      <td>0.247676</td>\n",
       "      <td>-1.514654</td>\n",
       "      <td>0.207643</td>\n",
       "      <td>...</td>\n",
       "      <td>0.771679</td>\n",
       "      <td>0.909412</td>\n",
       "      <td>-0.689281</td>\n",
       "      <td>-0.327642</td>\n",
       "      <td>-0.139097</td>\n",
       "      <td>-0.055353</td>\n",
       "      <td>-0.059752</td>\n",
       "      <td>378.66</td>\n",
       "      <td>0</td>\n",
       "      <td>0</td>\n",
       "    </tr>\n",
       "    <tr>\n",
       "      <th>3</th>\n",
       "      <td>-0.966272</td>\n",
       "      <td>-0.185226</td>\n",
       "      <td>1.792993</td>\n",
       "      <td>-0.863291</td>\n",
       "      <td>-0.010309</td>\n",
       "      <td>1.247203</td>\n",
       "      <td>0.237609</td>\n",
       "      <td>0.377436</td>\n",
       "      <td>-1.387024</td>\n",
       "      <td>-0.054952</td>\n",
       "      <td>...</td>\n",
       "      <td>0.005274</td>\n",
       "      <td>-0.190321</td>\n",
       "      <td>-1.175575</td>\n",
       "      <td>0.647376</td>\n",
       "      <td>-0.221929</td>\n",
       "      <td>0.062723</td>\n",
       "      <td>0.061458</td>\n",
       "      <td>123.50</td>\n",
       "      <td>0</td>\n",
       "      <td>0</td>\n",
       "    </tr>\n",
       "    <tr>\n",
       "      <th>4</th>\n",
       "      <td>-1.158233</td>\n",
       "      <td>0.877737</td>\n",
       "      <td>1.548718</td>\n",
       "      <td>0.403034</td>\n",
       "      <td>-0.407193</td>\n",
       "      <td>0.095921</td>\n",
       "      <td>0.592941</td>\n",
       "      <td>-0.270533</td>\n",
       "      <td>0.817739</td>\n",
       "      <td>0.753074</td>\n",
       "      <td>...</td>\n",
       "      <td>0.798278</td>\n",
       "      <td>-0.137458</td>\n",
       "      <td>0.141267</td>\n",
       "      <td>-0.206010</td>\n",
       "      <td>0.502292</td>\n",
       "      <td>0.219422</td>\n",
       "      <td>0.215153</td>\n",
       "      <td>69.99</td>\n",
       "      <td>0</td>\n",
       "      <td>0</td>\n",
       "    </tr>\n",
       "  </tbody>\n",
       "</table>\n",
       "<p>5 rows × 31 columns</p>\n",
       "</div>"
      ],
      "text/plain": [
       "         V1        V2        V3        V4        V5        V6        V7   \n",
       "0 -1.359807 -0.072781  2.536347  1.378155 -0.338321  0.462388  0.239599  \\\n",
       "1  1.191857  0.266151  0.166480  0.448154  0.060018 -0.082361 -0.078803   \n",
       "2 -1.358354 -1.340163  1.773209  0.379780 -0.503198  1.800499  0.791461   \n",
       "3 -0.966272 -0.185226  1.792993 -0.863291 -0.010309  1.247203  0.237609   \n",
       "4 -1.158233  0.877737  1.548718  0.403034 -0.407193  0.095921  0.592941   \n",
       "\n",
       "         V8        V9       V10  ...       V22       V23       V24       V25   \n",
       "0  0.098698  0.363787  0.090794  ...  0.277838 -0.110474  0.066928  0.128539  \\\n",
       "1  0.085102 -0.255425 -0.166974  ... -0.638672  0.101288 -0.339846  0.167170   \n",
       "2  0.247676 -1.514654  0.207643  ...  0.771679  0.909412 -0.689281 -0.327642   \n",
       "3  0.377436 -1.387024 -0.054952  ...  0.005274 -0.190321 -1.175575  0.647376   \n",
       "4 -0.270533  0.817739  0.753074  ...  0.798278 -0.137458  0.141267 -0.206010   \n",
       "\n",
       "        V26       V27       V28  Amount  hour  day_night  \n",
       "0 -0.189115  0.133558 -0.021053  149.62     0          0  \n",
       "1  0.125895 -0.008983  0.014724    2.69     0          0  \n",
       "2 -0.139097 -0.055353 -0.059752  378.66     0          0  \n",
       "3 -0.221929  0.062723  0.061458  123.50     0          0  \n",
       "4  0.502292  0.219422  0.215153   69.99     0          0  \n",
       "\n",
       "[5 rows x 31 columns]"
      ]
     },
     "execution_count": 21,
     "metadata": {},
     "output_type": "execute_result"
    }
   ],
   "source": [
    "# Resetting indices\n",
    "X_train = X_train.reset_index(drop=True)\n",
    "X_test= X_test.reset_index(drop=True)\n",
    "y_train=y_train.reset_index(drop=True)\n",
    "y_test=y_test.reset_index(drop=True)\n",
    "\n",
    "X_train.head()"
   ]
  },
  {
   "cell_type": "markdown",
   "id": "5b9111a2",
   "metadata": {},
   "source": [
    "## Balancing dataset"
   ]
  },
  {
   "cell_type": "code",
   "execution_count": 22,
   "id": "d1b1205f",
   "metadata": {},
   "outputs": [
    {
     "data": {
      "text/plain": [
       "Class\n",
       "0    171738\n",
       "1       360\n",
       "Name: count, dtype: int64"
      ]
     },
     "execution_count": 22,
     "metadata": {},
     "output_type": "execute_result"
    }
   ],
   "source": [
    "# Distribution of grade in training data\n",
    "y_train.value_counts()"
   ]
  },
  {
   "cell_type": "code",
   "execution_count": 23,
   "id": "a9738e50",
   "metadata": {},
   "outputs": [
    {
     "data": {
      "text/plain": [
       "Class\n",
       "0    73651\n",
       "1       98\n",
       "Name: count, dtype: int64"
      ]
     },
     "execution_count": 23,
     "metadata": {},
     "output_type": "execute_result"
    }
   ],
   "source": [
    "# Distribution of grade in testing data\n",
    "y_test.value_counts()"
   ]
  },
  {
   "cell_type": "markdown",
   "id": "7ad26959",
   "metadata": {},
   "source": [
    "We also see that the data is not very balanced in the training dataset. We will first oversample the dataset, then undersample.\n",
    "\n",
    "**The testing dataset will not be balanced since it should reflect the real-world distribution fo data.**"
   ]
  },
  {
   "cell_type": "code",
   "execution_count": 24,
   "id": "24bedaa4",
   "metadata": {},
   "outputs": [],
   "source": [
    "# SMOTE sampling\n",
    "ros = SMOTE(sampling_strategy=0.875,random_state=43)"
   ]
  },
  {
   "cell_type": "markdown",
   "id": "37291a70",
   "metadata": {},
   "source": [
    "I used SMOTE algorithm for oversampling which created synthetic samples of minority class. It works by randomly picking a point from the minority class and computing the k-nearest neighbors for this point. The synthetic points are added between the chosen point and its neighbors."
   ]
  },
  {
   "cell_type": "code",
   "execution_count": 25,
   "id": "2a9b02db",
   "metadata": {},
   "outputs": [],
   "source": [
    "# Resample dataest\n",
    "X_train, y_train = ros.fit_resample(X_train, y_train)"
   ]
  },
  {
   "cell_type": "code",
   "execution_count": 26,
   "id": "09d9b4ce",
   "metadata": {},
   "outputs": [
    {
     "data": {
      "text/plain": [
       "322008"
      ]
     },
     "execution_count": 26,
     "metadata": {},
     "output_type": "execute_result"
    }
   ],
   "source": [
    "# Length of dataset after sampling\n",
    "len(X_train)"
   ]
  },
  {
   "cell_type": "code",
   "execution_count": 27,
   "id": "fd484554",
   "metadata": {},
   "outputs": [
    {
     "data": {
      "text/plain": [
       "Class\n",
       "0    171738\n",
       "1    150270\n",
       "Name: count, dtype: int64"
      ]
     },
     "execution_count": 27,
     "metadata": {},
     "output_type": "execute_result"
    }
   ],
   "source": [
    "# Unique value of grade after sampling\n",
    "y_train.value_counts()"
   ]
  },
  {
   "cell_type": "markdown",
   "id": "16d51732",
   "metadata": {},
   "source": [
    "I am using RandomUnderSampler for undersampling."
   ]
  },
  {
   "cell_type": "code",
   "execution_count": 28,
   "id": "90457c89",
   "metadata": {},
   "outputs": [],
   "source": [
    "# Under sampling\n",
    "rus = RandomUnderSampler(sampling_strategy='auto', random_state=43)"
   ]
  },
  {
   "cell_type": "code",
   "execution_count": 29,
   "id": "1c8bec25",
   "metadata": {},
   "outputs": [],
   "source": [
    "# Resample dataest\n",
    "X_train, y_train = rus.fit_resample(X_train, y_train)"
   ]
  },
  {
   "cell_type": "code",
   "execution_count": 30,
   "id": "dd698892",
   "metadata": {},
   "outputs": [
    {
     "data": {
      "text/plain": [
       "300540"
      ]
     },
     "execution_count": 30,
     "metadata": {},
     "output_type": "execute_result"
    }
   ],
   "source": [
    "# Length of dataset after sampling\n",
    "len(X_train)"
   ]
  },
  {
   "cell_type": "code",
   "execution_count": 31,
   "id": "ffaa4f0c",
   "metadata": {},
   "outputs": [
    {
     "data": {
      "text/plain": [
       "Class\n",
       "0    150270\n",
       "1    150270\n",
       "Name: count, dtype: int64"
      ]
     },
     "execution_count": 31,
     "metadata": {},
     "output_type": "execute_result"
    }
   ],
   "source": [
    "# Unique value of grade after sampling\n",
    "y_train.value_counts()"
   ]
  },
  {
   "cell_type": "markdown",
   "id": "423e7f76",
   "metadata": {},
   "source": [
    "The target variable is balanced for the training set."
   ]
  },
  {
   "cell_type": "markdown",
   "id": "31b8ccc8",
   "metadata": {},
   "source": [
    " ## Feature Selection"
   ]
  },
  {
   "cell_type": "markdown",
   "id": "983af653",
   "metadata": {},
   "source": [
    "**I will be using Mutual Information for selection features. The feature selection will be done on training set so as to prevent information leakage. Then the selected features will be filtered out from the test dataset seperately.**"
   ]
  },
  {
   "cell_type": "code",
   "execution_count": 32,
   "id": "b699749e",
   "metadata": {},
   "outputs": [
    {
     "data": {
      "text/plain": [
       "array([0.25274848, 0.31017357, 0.40763541, 0.42927529, 0.24355495,\n",
       "       0.20889256, 0.36165225, 0.18930837, 0.27484092, 0.46658643,\n",
       "       0.42705997, 0.45149101, 0.02741626, 0.52252297, 0.03857058,\n",
       "       0.40680408, 0.49188573, 0.2859668 , 0.14848662, 0.1306324 ,\n",
       "       0.29740825, 0.04200025, 0.09741246, 0.09332773, 0.06116018,\n",
       "       0.0731993 , 0.25060185, 0.20423933, 0.40760246, 0.07951537,\n",
       "       0.04658595])"
      ]
     },
     "execution_count": 32,
     "metadata": {},
     "output_type": "execute_result"
    }
   ],
   "source": [
    "# Determine the mutual information\n",
    "mutual_info = mutual_info_classif(X_train, np.ravel(y_train), random_state = 43, discrete_features=False)\n",
    "\n",
    "# Preview\n",
    "mutual_info"
   ]
  },
  {
   "cell_type": "code",
   "execution_count": 33,
   "id": "a797eb3c",
   "metadata": {},
   "outputs": [
    {
     "data": {
      "text/plain": [
       "0    0.252748\n",
       "1    0.310174\n",
       "2    0.407635\n",
       "3    0.429275\n",
       "4    0.243555\n",
       "dtype: float64"
      ]
     },
     "execution_count": 33,
     "metadata": {},
     "output_type": "execute_result"
    }
   ],
   "source": [
    "# Converting to dataframe\n",
    "mutual_info = pd.Series(mutual_info)\n",
    "\n",
    "# Preview\n",
    "mutual_info.head()"
   ]
  },
  {
   "cell_type": "code",
   "execution_count": 34,
   "id": "3431c7bc",
   "metadata": {},
   "outputs": [
    {
     "data": {
      "text/plain": [
       "V1    0.252748\n",
       "V2    0.310174\n",
       "V3    0.407635\n",
       "V4    0.429275\n",
       "V5    0.243555\n",
       "dtype: float64"
      ]
     },
     "execution_count": 34,
     "metadata": {},
     "output_type": "execute_result"
    }
   ],
   "source": [
    "# Setting column names to mutual information\n",
    "mutual_info.index = X_train.columns\n",
    "\n",
    "# Preview\n",
    "mutual_info.head()"
   ]
  },
  {
   "cell_type": "code",
   "execution_count": 35,
   "id": "53a36c26",
   "metadata": {},
   "outputs": [
    {
     "data": {
      "text/plain": [
       "V14       0.522523\n",
       "V17       0.491886\n",
       "V10       0.466586\n",
       "V12       0.451491\n",
       "V4        0.429275\n",
       "V11       0.427060\n",
       "V3        0.407635\n",
       "Amount    0.407602\n",
       "V16       0.406804\n",
       "V7        0.361652\n",
       "dtype: float64"
      ]
     },
     "execution_count": 35,
     "metadata": {},
     "output_type": "execute_result"
    }
   ],
   "source": [
    "# Sort by descending order of mutual information\n",
    "mutual_info = mutual_info.sort_values(ascending = False)\n",
    "\n",
    "# Preview\n",
    "mutual_info.head(10)"
   ]
  },
  {
   "cell_type": "code",
   "execution_count": 36,
   "id": "ad1b291d",
   "metadata": {},
   "outputs": [
    {
     "data": {
      "text/plain": [
       "<Axes: >"
      ]
     },
     "execution_count": 36,
     "metadata": {},
     "output_type": "execute_result"
    },
    {
     "data": {
      "image/png": "[encoded data removed]",
      "text/plain": [
       "<Figure size 2000x800 with 1 Axes>"
      ]
     },
     "metadata": {},
     "output_type": "display_data"
    }
   ],
   "source": [
    "# Plot\n",
    "mutual_info.sort_values(ascending = False).plot.bar(figsize =(20,8))"
   ]
  },
  {
   "cell_type": "code",
   "execution_count": 37,
   "id": "99909c8f",
   "metadata": {},
   "outputs": [
    {
     "data": {
      "text/plain": [
       "['V14',\n",
       " 'V17',\n",
       " 'V10',\n",
       " 'V12',\n",
       " 'V4',\n",
       " 'V11',\n",
       " 'V3',\n",
       " 'Amount',\n",
       " 'V16',\n",
       " 'V7',\n",
       " 'V2',\n",
       " 'V21',\n",
       " 'V18',\n",
       " 'V9']"
      ]
     },
     "execution_count": 37,
     "metadata": {},
     "output_type": "execute_result"
    }
   ],
   "source": [
    "# Select the best features\n",
    "best = mutual_info.index[0:14].to_list()\n",
    "\n",
    "# Preview\n",
    "best"
   ]
  },
  {
   "cell_type": "markdown",
   "id": "5f026b4a",
   "metadata": {},
   "source": [
    "> **I varied the number of features selected and ran the model. I saw that choosing around 14 features gave me the highest model accuracy.**"
   ]
  },
  {
   "cell_type": "code",
   "execution_count": 38,
   "id": "104793e4",
   "metadata": {},
   "outputs": [
    {
     "data": {
      "text/html": [
       "<div>\n",
       "<style scoped>\n",
       "    .dataframe tbody tr th:only-of-type {\n",
       "        vertical-align: middle;\n",
       "    }\n",
       "\n",
       "    .dataframe tbody tr th {\n",
       "        vertical-align: top;\n",
       "    }\n",
       "\n",
       "    .dataframe thead th {\n",
       "        text-align: right;\n",
       "    }\n",
       "</style>\n",
       "<table border=\"1\" class=\"dataframe\">\n",
       "  <thead>\n",
       "    <tr style=\"text-align: right;\">\n",
       "      <th></th>\n",
       "      <th>V14</th>\n",
       "      <th>V17</th>\n",
       "      <th>V10</th>\n",
       "      <th>V12</th>\n",
       "      <th>V4</th>\n",
       "      <th>V11</th>\n",
       "      <th>V3</th>\n",
       "      <th>Amount</th>\n",
       "      <th>V16</th>\n",
       "      <th>V7</th>\n",
       "      <th>V2</th>\n",
       "      <th>V21</th>\n",
       "      <th>V18</th>\n",
       "      <th>V9</th>\n",
       "    </tr>\n",
       "  </thead>\n",
       "  <tbody>\n",
       "    <tr>\n",
       "      <th>0</th>\n",
       "      <td>-0.144569</td>\n",
       "      <td>0.146013</td>\n",
       "      <td>0.730698</td>\n",
       "      <td>0.957722</td>\n",
       "      <td>0.633288</td>\n",
       "      <td>1.228622</td>\n",
       "      <td>1.059268</td>\n",
       "      <td>168.00</td>\n",
       "      <td>-1.598477</td>\n",
       "      <td>-1.010111</td>\n",
       "      <td>-1.124481</td>\n",
       "      <td>-0.031302</td>\n",
       "      <td>1.154906</td>\n",
       "      <td>-0.638138</td>\n",
       "    </tr>\n",
       "    <tr>\n",
       "      <th>1</th>\n",
       "      <td>-0.105314</td>\n",
       "      <td>0.615302</td>\n",
       "      <td>0.568833</td>\n",
       "      <td>-0.350313</td>\n",
       "      <td>-0.643636</td>\n",
       "      <td>0.332762</td>\n",
       "      <td>0.691834</td>\n",
       "      <td>2.56</td>\n",
       "      <td>0.847468</td>\n",
       "      <td>-0.625350</td>\n",
       "      <td>-0.450267</td>\n",
       "      <td>-0.050096</td>\n",
       "      <td>-2.136965</td>\n",
       "      <td>-0.799919</td>\n",
       "    </tr>\n",
       "    <tr>\n",
       "      <th>2</th>\n",
       "      <td>-1.301226</td>\n",
       "      <td>1.015402</td>\n",
       "      <td>-0.752878</td>\n",
       "      <td>-0.382358</td>\n",
       "      <td>0.627629</td>\n",
       "      <td>-0.350391</td>\n",
       "      <td>-0.948369</td>\n",
       "      <td>0.76</td>\n",
       "      <td>0.507124</td>\n",
       "      <td>0.308920</td>\n",
       "      <td>0.579341</td>\n",
       "      <td>-0.182492</td>\n",
       "      <td>0.101700</td>\n",
       "      <td>-0.099771</td>\n",
       "    </tr>\n",
       "    <tr>\n",
       "      <th>3</th>\n",
       "      <td>0.152396</td>\n",
       "      <td>-0.188199</td>\n",
       "      <td>0.680465</td>\n",
       "      <td>-0.182045</td>\n",
       "      <td>-1.623007</td>\n",
       "      <td>-0.504286</td>\n",
       "      <td>-1.501571</td>\n",
       "      <td>11.00</td>\n",
       "      <td>-1.472787</td>\n",
       "      <td>-0.795350</td>\n",
       "      <td>-0.712240</td>\n",
       "      <td>-0.499511</td>\n",
       "      <td>1.034679</td>\n",
       "      <td>-0.938332</td>\n",
       "    </tr>\n",
       "    <tr>\n",
       "      <th>4</th>\n",
       "      <td>-3.181877</td>\n",
       "      <td>-3.880118</td>\n",
       "      <td>-1.100876</td>\n",
       "      <td>-3.629825</td>\n",
       "      <td>2.002872</td>\n",
       "      <td>1.551426</td>\n",
       "      <td>-0.798165</td>\n",
       "      <td>15.22</td>\n",
       "      <td>-3.147555</td>\n",
       "      <td>-1.931457</td>\n",
       "      <td>1.117713</td>\n",
       "      <td>0.054897</td>\n",
       "      <td>-2.077592</td>\n",
       "      <td>-0.536328</td>\n",
       "    </tr>\n",
       "  </tbody>\n",
       "</table>\n",
       "</div>"
      ],
      "text/plain": [
       "        V14       V17       V10       V12        V4       V11        V3   \n",
       "0 -0.144569  0.146013  0.730698  0.957722  0.633288  1.228622  1.059268  \\\n",
       "1 -0.105314  0.615302  0.568833 -0.350313 -0.643636  0.332762  0.691834   \n",
       "2 -1.301226  1.015402 -0.752878 -0.382358  0.627629 -0.350391 -0.948369   \n",
       "3  0.152396 -0.188199  0.680465 -0.182045 -1.623007 -0.504286 -1.501571   \n",
       "4 -3.181877 -3.880118 -1.100876 -3.629825  2.002872  1.551426 -0.798165   \n",
       "\n",
       "   Amount       V16        V7        V2       V21       V18        V9  \n",
       "0  168.00 -1.598477 -1.010111 -1.124481 -0.031302  1.154906 -0.638138  \n",
       "1    2.56  0.847468 -0.625350 -0.450267 -0.050096 -2.136965 -0.799919  \n",
       "2    0.76  0.507124  0.308920  0.579341 -0.182492  0.101700 -0.099771  \n",
       "3   11.00 -1.472787 -0.795350 -0.712240 -0.499511  1.034679 -0.938332  \n",
       "4   15.22 -3.147555 -1.931457  1.117713  0.054897 -2.077592 -0.536328  "
      ]
     },
     "execution_count": 38,
     "metadata": {},
     "output_type": "execute_result"
    }
   ],
   "source": [
    "# Filtering features\n",
    "X_train = X_train[best]\n",
    "\n",
    "X_test = X_test[best]\n",
    "\n",
    "X_train.head()"
   ]
  },
  {
   "cell_type": "code",
   "execution_count": 39,
   "id": "2fd032f5",
   "metadata": {},
   "outputs": [
    {
     "data": {
      "text/plain": [
       "<Axes: >"
      ]
     },
     "execution_count": 39,
     "metadata": {},
     "output_type": "execute_result"
    },
    {
     "data": {
      "image/png": "[encoded data removed]",
      "text/plain": [
       "<Figure size 1200x1000 with 2 Axes>"
      ]
     },
     "metadata": {},
     "output_type": "display_data"
    }
   ],
   "source": [
    "# Correlation matrix\n",
    "plt.figure(figsize=(12,10))\n",
    "sns.heatmap(X_train.corr(),annot=True,cmap='magma')"
   ]
  },
  {
   "cell_type": "markdown",
   "id": "a5ad0d65",
   "metadata": {},
   "source": [
    "## Modelling"
   ]
  },
  {
   "cell_type": "markdown",
   "id": "9fb0b156",
   "metadata": {},
   "source": [
    "We will be first testing multiple classifier models to compare."
   ]
  },
  {
   "cell_type": "markdown",
   "id": "5dc86713",
   "metadata": {},
   "source": [
    "#### Performance Metrics"
   ]
  },
  {
   "cell_type": "markdown",
   "id": "01afdf18",
   "metadata": {},
   "source": [
    "For fraud classification, the decision to prioritise precision or recall is case dependant. If we want to make sure to accurately find every fraud transactions at the expense of potential increase in false positives, we use recall. Or, if we want to make sure the transactions predicted as fraud are correct, we choose precision. In our case, precision is more apt.\n",
    "\n",
    "I choose **Average precision** and **Top Precision @k** where k=100 as my evaluation metric along with **ROC AUC Score** .\n",
    "\n",
    "Top precision @ k assesses the proportion of correct or relevant items among the top k predictions or recommendations provided by the system. For credit fraud, the fraud investigators can only look at a finite number of fraud transactions daily. Let's say in our case it is 100. So we need to rank our predicted fraud transactions and make sure to maximise the precision for the top 100 transactions.\n",
    "\n",
    "Average precision is a metric commonly used in information retrieval tasks, such as ranking and recommendation systems. It takes into account both precision and recall to evaluate the quality of a ranked list of items. Average precision is calculated by computing the precision at each position of the ranked list and then averaging those precision values."
   ]
  },
  {
   "cell_type": "code",
   "execution_count": 40,
   "id": "18b26692",
   "metadata": {},
   "outputs": [],
   "source": [
    "def precision_at_k(y_test, y_test_pred) -> float:\n",
    "    \"\"\"\n",
    "    Function to compute precision@k for an input boolean dataframe\n",
    "    \n",
    "    Inputs:\n",
    "        k      -> integer number of items to consider\n",
    "        y_test -> string name of column containing actual user input\n",
    "        y_test_pred -> string name of column containing recommendation output\n",
    "        \n",
    "    Output:\n",
    "        Floating-point number of precision value for k items\n",
    "    \"\"\"\n",
    "    # No of items to consider\n",
    "    k=100\n",
    "    \n",
    "    # Combine actual and predicted to dataframe\n",
    "    df = pd.DataFrame(dict(y_test = y_test, y_test_pred = y_test_pred)).reset_index(drop=True)\n",
    "    \n",
    "    # Sort by predicted\n",
    "    df = df.sort_values(by='y_test_pred',ascending=False)\n",
    "\n",
    "    # Convert to boolean\n",
    "    threshold = 1\n",
    "    df = df >= threshold\n",
    "    \n",
    "    \n",
    "    \n",
    "    # Check we have a valid entry for k\n",
    "    if k <= 0:\n",
    "        raise ValueError('Value of k should be greater than 1, read in as: {}'.format(k))\n",
    "        \n",
    "    # Extract the k rows\n",
    "    dfK = df.head(k)\n",
    "    \n",
    "    # Compute number of recommended items @k\n",
    "    denominator = dfK['y_test_pred'].sum()\n",
    "    \n",
    "    # Compute number of recommended items that are relevant @k\n",
    "    numerator = dfK[dfK['y_test_pred'] & dfK['y_test']].shape[0]\n",
    "    \n",
    "    # Return result\n",
    "    if denominator > 0:\n",
    "        return numerator/denominator\n",
    "    else:\n",
    "        return None\n",
    "    \n",
    "def recall_at_k(y_test, y_test_pred) -> float:\n",
    "    \"\"\"\n",
    "    Function to compute recall@k for an input boolean dataframe\n",
    "    \n",
    "    Inputs:\n",
    "        k      -> integer number of items to consider\n",
    "        y_test -> string name of column containing actual user input\n",
    "        y_test_pred -> string name of column containing recommendation output\n",
    "        \n",
    "    Output:\n",
    "        Floating-point number of recall value for k items\n",
    "    \"\"\"\n",
    "    # No of items to consider\n",
    "    k=100\n",
    "    \n",
    "    # Combine actual and predicted to dataframe\n",
    "    df = pd.DataFrame(dict(y_test = y_test, y_test_pred = y_test_pred)).reset_index(drop=True)\n",
    "    \n",
    "    # Sort by predicted\n",
    "    df = df.sort_values(by='y_test_pred',ascending=False)\n",
    "\n",
    "    # Convert to boolean\n",
    "    threshold = 1\n",
    "    df = df >= threshold\n",
    "    \n",
    "    # Check we have a valid entry for k\n",
    "    if k <= 0:\n",
    "        raise ValueError('Value of k should be greater than 1, read in as: {}'.format(k))\n",
    "        \n",
    "    # Extract the k rows\n",
    "    dfK = df.head(k)\n",
    "    \n",
    "    # Compute number of all relevant items\n",
    "    denominator = df['y_test'].sum()\n",
    "    \n",
    "    # Compute number of recommended items that are relevant @k\n",
    "    numerator = dfK[dfK['y_test_pred'] & dfK['y_test']].shape[0]\n",
    "    \n",
    "    # Return result\n",
    "    if denominator > 0:\n",
    "        return numerator/denominator\n",
    "    else:\n",
    "        return None"
   ]
  },
  {
   "cell_type": "code",
   "execution_count": 41,
   "id": "b85b8884",
   "metadata": {},
   "outputs": [],
   "source": [
    "# List of models to compare\n",
    "models = {\n",
    "    'Random Forest':RandomForestClassifier(random_state=43),\n",
    "    'Logistic Regression':LogisticRegression(max_iter=100000, random_state=43),\n",
    "    'Decision Tree':DecisionTreeClassifier(random_state=43),\n",
    "    'K-nearest Neighbhour':KNeighborsClassifier(),\n",
    "    'XGBoost':XGBClassifier(random_state=43)\n",
    "}\n",
    "\n",
    "score = {}\n",
    "train_score = []\n",
    "train_avg_pr= []\n",
    "test_avg_pr= []\n",
    "train_topk= []\n",
    "test_topk =[]"
   ]
  },
  {
   "cell_type": "code",
   "execution_count": 42,
   "id": "52022a87",
   "metadata": {},
   "outputs": [],
   "source": [
    "# # List of models to compare\n",
    "# models = {\n",
    "#     'Random Forest':RandomForestClassifier(random_state=43)\n",
    "# }\n",
    "\n",
    "# score = {}\n",
    "# train_score = []\n",
    "# train_avg_pr= []\n",
    "# test_avg_pr= []\n",
    "# train_topk= []\n",
    "# test_topk =[]"
   ]
  },
  {
   "cell_type": "code",
   "execution_count": 43,
   "id": "6a233054",
   "metadata": {
    "scrolled": true
   },
   "outputs": [
    {
     "name": "stdout",
     "output_type": "stream",
     "text": [
      "Model performance for training set \n",
      "\n",
      " Training performance of Random Forest: \n",
      "               precision    recall  f1-score   support\n",
      "\n",
      "           0       1.00      1.00      1.00    150270\n",
      "           1       1.00      1.00      1.00    150270\n",
      "\n",
      "    accuracy                           1.00    300540\n",
      "   macro avg       1.00      1.00      1.00    300540\n",
      "weighted avg       1.00      1.00      1.00    300540\n",
      "\n",
      "Model performance for testing set \n",
      "\n",
      " Testing performance of Random Forest: \n",
      "               precision    recall  f1-score   support\n",
      "\n",
      "           0       1.00      1.00      1.00     73651\n",
      "           1       0.95      0.77      0.85        98\n",
      "\n",
      "    accuracy                           1.00     73749\n",
      "   macro avg       0.97      0.88      0.92     73749\n",
      "weighted avg       1.00      1.00      1.00     73749\n",
      "\n",
      "Training average precision : 1.0\n",
      "Testing average precision  : 0.73\n",
      "Train Precision@k: 1.00, Train Recall@k: 0.00 for k=100\n",
      "Test Precision@k: 0.95, Test Recall@k: 0.77 for k=100\n",
      "ROC-AUC score: 0.883\n",
      "===================================\n",
      "Model performance for training set \n",
      "\n",
      " Training performance of Logistic Regression: \n",
      "               precision    recall  f1-score   support\n",
      "\n",
      "           0       0.94      0.99      0.96    150270\n",
      "           1       0.98      0.93      0.96    150270\n",
      "\n",
      "    accuracy                           0.96    300540\n",
      "   macro avg       0.96      0.96      0.96    300540\n",
      "weighted avg       0.96      0.96      0.96    300540\n",
      "\n",
      "Model performance for testing set \n",
      "\n",
      " Testing performance of Logistic Regression: \n",
      "               precision    recall  f1-score   support\n",
      "\n",
      "           0       1.00      0.99      0.99     73651\n",
      "           1       0.08      0.86      0.15        98\n",
      "\n",
      "    accuracy                           0.99     73749\n",
      "   macro avg       0.54      0.92      0.57     73749\n",
      "weighted avg       1.00      0.99      0.99     73749\n",
      "\n",
      "Training average precision : 0.95\n",
      "Testing average precision  : 0.07\n",
      "Train Precision@k: 1.00, Train Recall@k: 0.00 for k=100\n",
      "Test Precision@k: 0.08, Test Recall@k: 0.08 for k=100\n",
      "ROC-AUC score: 0.922\n",
      "===================================\n",
      "Model performance for training set \n",
      "\n",
      " Training performance of Decision Tree: \n",
      "               precision    recall  f1-score   support\n",
      "\n",
      "           0       1.00      1.00      1.00    150270\n",
      "           1       1.00      1.00      1.00    150270\n",
      "\n",
      "    accuracy                           1.00    300540\n",
      "   macro avg       1.00      1.00      1.00    300540\n",
      "weighted avg       1.00      1.00      1.00    300540\n",
      "\n",
      "Model performance for testing set \n",
      "\n",
      " Testing performance of Decision Tree: \n",
      "               precision    recall  f1-score   support\n",
      "\n",
      "           0       1.00      1.00      1.00     73651\n",
      "           1       0.25      0.76      0.38        98\n",
      "\n",
      "    accuracy                           1.00     73749\n",
      "   macro avg       0.63      0.88      0.69     73749\n",
      "weighted avg       1.00      1.00      1.00     73749\n",
      "\n",
      "Training average precision : 1.0\n",
      "Testing average precision  : 0.19\n",
      "Train Precision@k: 1.00, Train Recall@k: 0.00 for k=100\n",
      "Test Precision@k: 0.28, Test Recall@k: 0.29 for k=100\n",
      "ROC-AUC score: 0.876\n",
      "===================================\n",
      "Model performance for training set \n",
      "\n",
      " Training performance of K-nearest Neighbhour: \n",
      "               precision    recall  f1-score   support\n",
      "\n",
      "           0       1.00      1.00      1.00    150270\n",
      "           1       1.00      1.00      1.00    150270\n",
      "\n",
      "    accuracy                           1.00    300540\n",
      "   macro avg       1.00      1.00      1.00    300540\n",
      "weighted avg       1.00      1.00      1.00    300540\n",
      "\n",
      "Model performance for testing set \n",
      "\n",
      " Testing performance of K-nearest Neighbhour: \n",
      "               precision    recall  f1-score   support\n",
      "\n",
      "           0       1.00      0.99      1.00     73651\n",
      "           1       0.17      0.80      0.27        98\n",
      "\n",
      "    accuracy                           0.99     73749\n",
      "   macro avg       0.58      0.90      0.64     73749\n",
      "weighted avg       1.00      0.99      1.00     73749\n",
      "\n",
      "Training average precision : 1.0\n",
      "Testing average precision  : 0.13\n",
      "Train Precision@k: 1.00, Train Recall@k: 0.00 for k=100\n",
      "Test Precision@k: 0.20, Test Recall@k: 0.20 for k=100\n",
      "ROC-AUC score: 0.895\n",
      "===================================\n",
      "Model performance for training set \n",
      "\n",
      " Training performance of XGBoost: \n",
      "               precision    recall  f1-score   support\n",
      "\n",
      "           0       1.00      1.00      1.00    150270\n",
      "           1       1.00      1.00      1.00    150270\n",
      "\n",
      "    accuracy                           1.00    300540\n",
      "   macro avg       1.00      1.00      1.00    300540\n",
      "weighted avg       1.00      1.00      1.00    300540\n",
      "\n",
      "Model performance for testing set \n",
      "\n",
      " Testing performance of XGBoost: \n",
      "               precision    recall  f1-score   support\n",
      "\n",
      "           0       1.00      1.00      1.00     73651\n",
      "           1       0.73      0.76      0.74        98\n",
      "\n",
      "    accuracy                           1.00     73749\n",
      "   macro avg       0.86      0.88      0.87     73749\n",
      "weighted avg       1.00      1.00      1.00     73749\n",
      "\n",
      "Training average precision : 1.0\n",
      "Testing average precision  : 0.55\n",
      "Train Precision@k: 1.00, Train Recall@k: 0.00 for k=100\n",
      "Test Precision@k: 0.73, Test Recall@k: 0.74 for k=100\n",
      "ROC-AUC score: 0.877\n",
      "===================================\n"
     ]
    }
   ],
   "source": [
    "for i in range(len(list(models))):\n",
    "    \n",
    "    #Select model\n",
    "    model = list(models.values())[i]\n",
    "    \n",
    "    # Train model\n",
    "    model.fit(X_train,y_train)\n",
    "    \n",
    "    # Make predictions\n",
    "    y_train_pred = model.predict(X_train)\n",
    "    y_test_pred = model.predict(X_test)\n",
    "    \n",
    "    \n",
    "    \n",
    "    print('Model performance for training set \\n')\n",
    "    \n",
    "    print(f\" Training performance of {list(models.keys())[i]}: \\n\",classification_report(y_train, y_train_pred))\n",
    "    \n",
    "    print('Model performance for testing set \\n')\n",
    "    \n",
    "    print(f\" Testing performance of {list(models.keys())[i]}: \\n\",classification_report(y_test, y_test_pred))\n",
    "    \n",
    "    print(\"Training average precision :\",round(average_precision_score(y_train, y_train_pred),2))\n",
    "\n",
    "    print(\"Testing average precision  :\",round(average_precision_score(y_test, y_test_pred),2))\n",
    "    \n",
    "    # No of items to consider\n",
    "    k=100\n",
    "    \n",
    "    print('Train Precision@k: {:.2f}, Train Recall@k: {:.2f} for k={}'.format(precision_at_k(y_train,y_train_pred),recall_at_k(y_train,y_train_pred),k))\n",
    "    \n",
    "    # Store train precision @k to list\n",
    "    train_topk.append(round(precision_at_k(y_train,y_train_pred),2))\n",
    "    \n",
    "    print('Test Precision@k: {:.2f}, Test Recall@k: {:.2f} for k={}'.format(precision_at_k(y_test,y_test_pred),recall_at_k(y_test,y_test_pred),k))\n",
    "    \n",
    "    # Store test precision @k to list\n",
    "    test_topk.append(round(precision_at_k(y_test,y_test_pred),2))                 \n",
    "\n",
    "    print(\"ROC-AUC score:\",round(roc_auc_score(y_test,y_test_pred),3))\n",
    "    \n",
    "    print('='*35)\n",
    "    \n",
    "    # Store test score in dictionary\n",
    "    score[list(models.keys())[i]] = round(classification_report(y_test, y_test_pred,output_dict=True)['macro avg']['precision'],2)\n",
    "    \n",
    "    # Get train score\n",
    "    train_score.append(round(classification_report(y_train, y_train_pred,output_dict=True)['macro avg']['precision'],2))\n",
    "    \n",
    "    # Get average train precision\n",
    "    train_avg_pr.append(round(average_precision_score(y_train, y_train_pred),2))\n",
    "    \n",
    "    # Get average test precision\n",
    "    test_avg_pr.append(round(average_precision_score(y_test, y_test_pred),2))"
   ]
  },
  {
   "cell_type": "code",
   "execution_count": 44,
   "id": "cf834d78",
   "metadata": {
    "scrolled": true
   },
   "outputs": [
    {
     "data": {
      "text/html": [
       "<div>\n",
       "<style scoped>\n",
       "    .dataframe tbody tr th:only-of-type {\n",
       "        vertical-align: middle;\n",
       "    }\n",
       "\n",
       "    .dataframe tbody tr th {\n",
       "        vertical-align: top;\n",
       "    }\n",
       "\n",
       "    .dataframe thead th {\n",
       "        text-align: right;\n",
       "    }\n",
       "</style>\n",
       "<table border=\"1\" class=\"dataframe\">\n",
       "  <thead>\n",
       "    <tr style=\"text-align: right;\">\n",
       "      <th></th>\n",
       "      <th>model</th>\n",
       "      <th>test_precision</th>\n",
       "      <th>train_precision</th>\n",
       "      <th>train_top_precision@100</th>\n",
       "      <th>test_top_precision@100</th>\n",
       "      <th>train_average_precision</th>\n",
       "      <th>test_average_precision</th>\n",
       "    </tr>\n",
       "  </thead>\n",
       "  <tbody>\n",
       "    <tr>\n",
       "      <th>0</th>\n",
       "      <td>Random Forest</td>\n",
       "      <td>0.97</td>\n",
       "      <td>1.00</td>\n",
       "      <td>1.0</td>\n",
       "      <td>0.95</td>\n",
       "      <td>1.00</td>\n",
       "      <td>0.73</td>\n",
       "    </tr>\n",
       "    <tr>\n",
       "      <th>4</th>\n",
       "      <td>XGBoost</td>\n",
       "      <td>0.86</td>\n",
       "      <td>1.00</td>\n",
       "      <td>1.0</td>\n",
       "      <td>0.73</td>\n",
       "      <td>1.00</td>\n",
       "      <td>0.55</td>\n",
       "    </tr>\n",
       "    <tr>\n",
       "      <th>2</th>\n",
       "      <td>Decision Tree</td>\n",
       "      <td>0.63</td>\n",
       "      <td>1.00</td>\n",
       "      <td>1.0</td>\n",
       "      <td>0.28</td>\n",
       "      <td>1.00</td>\n",
       "      <td>0.19</td>\n",
       "    </tr>\n",
       "    <tr>\n",
       "      <th>3</th>\n",
       "      <td>K-nearest Neighbhour</td>\n",
       "      <td>0.58</td>\n",
       "      <td>1.00</td>\n",
       "      <td>1.0</td>\n",
       "      <td>0.20</td>\n",
       "      <td>1.00</td>\n",
       "      <td>0.13</td>\n",
       "    </tr>\n",
       "    <tr>\n",
       "      <th>1</th>\n",
       "      <td>Logistic Regression</td>\n",
       "      <td>0.54</td>\n",
       "      <td>0.96</td>\n",
       "      <td>1.0</td>\n",
       "      <td>0.08</td>\n",
       "      <td>0.95</td>\n",
       "      <td>0.07</td>\n",
       "    </tr>\n",
       "  </tbody>\n",
       "</table>\n",
       "</div>"
      ],
      "text/plain": [
       "                  model  test_precision  train_precision   \n",
       "0         Random Forest            0.97             1.00  \\\n",
       "4               XGBoost            0.86             1.00   \n",
       "2         Decision Tree            0.63             1.00   \n",
       "3  K-nearest Neighbhour            0.58             1.00   \n",
       "1   Logistic Regression            0.54             0.96   \n",
       "\n",
       "   train_top_precision@100  test_top_precision@100  train_average_precision   \n",
       "0                      1.0                    0.95                     1.00  \\\n",
       "4                      1.0                    0.73                     1.00   \n",
       "2                      1.0                    0.28                     1.00   \n",
       "3                      1.0                    0.20                     1.00   \n",
       "1                      1.0                    0.08                     0.95   \n",
       "\n",
       "   test_average_precision  \n",
       "0                    0.73  \n",
       "4                    0.55  \n",
       "2                    0.19  \n",
       "3                    0.13  \n",
       "1                    0.07  "
      ]
     },
     "execution_count": 44,
     "metadata": {},
     "output_type": "execute_result"
    }
   ],
   "source": [
    "# Convert metrics to dataframe\n",
    "m_acc = pd.DataFrame(score.items(),columns = ['model','test_precision'])\n",
    "\n",
    "# Append list to column\n",
    "m_acc['train_precision'] = train_score\n",
    "\n",
    "m_acc['train_top_precision@100'] = train_topk\n",
    "\n",
    "m_acc['test_top_precision@100'] = test_topk\n",
    "\n",
    "m_acc['train_average_precision'] = train_avg_pr\n",
    "\n",
    "m_acc['test_average_precision'] = test_avg_pr\n",
    "\n",
    "# Preview\n",
    "m_acc.sort_values('test_top_precision@100',ascending=False)"
   ]
  },
  {
   "cell_type": "markdown",
   "id": "605fb0ec",
   "metadata": {},
   "source": [
    "Random Forest performed the best on all metrics with a ROC-AUC score of 0.88."
   ]
  },
  {
   "cell_type": "markdown",
   "id": "b5af5cf7",
   "metadata": {},
   "source": [
    "### Hyperparameter Tuning"
   ]
  },
  {
   "cell_type": "code",
   "execution_count": 45,
   "id": "cca1a79a",
   "metadata": {},
   "outputs": [],
   "source": [
    "# Creating custom scorer for precision top k\n",
    "custom_scorer_object = make_scorer(precision_at_k, greater_is_better=True)"
   ]
  },
  {
   "cell_type": "code",
   "execution_count": 46,
   "id": "5059dfa4",
   "metadata": {},
   "outputs": [],
   "source": [
    "# Stratified k-fold cross-validation\n",
    "skf = StratifiedKFold(n_splits=5)"
   ]
  },
  {
   "cell_type": "code",
   "execution_count": 47,
   "id": "5ea3122c",
   "metadata": {},
   "outputs": [],
   "source": [
    "param_grid = {\n",
    "    'n_estimators': [100, 200, 300, 400, 500],\n",
    "    'max_depth': [None, 5, 10, 15, 20],\n",
    "    'min_samples_split': [2, 5, 10],\n",
    "    'min_samples_leaf': [1, 2, 4],\n",
    "    'bootstrap': [True, False]\n",
    "}"
   ]
  },
  {
   "cell_type": "code",
   "execution_count": 48,
   "id": "c65d15cc",
   "metadata": {
    "scrolled": true
   },
   "outputs": [],
   "source": [
    "# # RF Classifier\n",
    "# rf = RandomForestClassifier()\n",
    "\n",
    "# random_search = RandomizedSearchCV(estimator=rf, \n",
    "#                                    param_distributions=param_grid, \n",
    "#                                    n_iter=10, \n",
    "#                                    scoring=custom_scorer_object,\n",
    "#                                    cv=skf,\n",
    "#                                    verbose=2, \n",
    "#                                    random_state=43)\n",
    "\n",
    "# random_search.fit(X_train, y_train)"
   ]
  },
  {
   "cell_type": "code",
   "execution_count": 49,
   "id": "b8f62671",
   "metadata": {},
   "outputs": [],
   "source": [
    "# best_params = random_search.best_params_\n",
    "\n",
    "# print(\"Best Hyperparameters:\", random_search.best_params_)\n",
    "# print(\"Best Score:\", random_search.best_score_)"
   ]
  },
  {
   "cell_type": "code",
   "execution_count": 50,
   "id": "92f722fd",
   "metadata": {},
   "outputs": [],
   "source": [
    "# # Save best hyperparameters to json\n",
    "# with open(PROCESSED + r'rf_best_params.json', 'w') as fp:\n",
    "#     json.dump(random_search.best_params_, fp)"
   ]
  },
  {
   "cell_type": "code",
   "execution_count": 51,
   "id": "26865d38",
   "metadata": {},
   "outputs": [],
   "source": [
    "# Load json\n",
    "with open(PROCESSED + r'rf_best_params.json', 'r') as fp:\n",
    "    best_params = json.load(fp)"
   ]
  },
  {
   "cell_type": "code",
   "execution_count": 52,
   "id": "46b570e2",
   "metadata": {},
   "outputs": [
    {
     "data": {
      "text/plain": [
       "{'n_estimators': 100,\n",
       " 'min_samples_split': 2,\n",
       " 'min_samples_leaf': 2,\n",
       " 'max_depth': None,\n",
       " 'bootstrap': True}"
      ]
     },
     "execution_count": 52,
     "metadata": {},
     "output_type": "execute_result"
    }
   ],
   "source": [
    "# Best parameters\n",
    "best_params"
   ]
  },
  {
   "cell_type": "code",
   "execution_count": 53,
   "id": "f6a66f89",
   "metadata": {},
   "outputs": [
    {
     "data": {
      "text/html": [
       "<style>#sk-container-id-1 {color: black;background-color: white;}#sk-container-id-1 pre{padding: 0;}#sk-container-id-1 div.sk-toggleable {background-color: white;}#sk-container-id-1 label.sk-toggleable__label {cursor: pointer;display: block;width: 100%;margin-bottom: 0;padding: 0.3em;box-sizing: border-box;text-align: center;}#sk-container-id-1 label.sk-toggleable__label-arrow:before {content: \"▸\";float: left;margin-right: 0.25em;color: #696969;}#sk-container-id-1 label.sk-toggleable__label-arrow:hover:before {color: black;}#sk-container-id-1 div.sk-estimator:hover label.sk-toggleable__label-arrow:before {color: black;}#sk-container-id-1 div.sk-toggleable__content {max-height: 0;max-width: 0;overflow: hidden;text-align: left;background-color: #f0f8ff;}#sk-container-id-1 div.sk-toggleable__content pre {margin: 0.2em;color: black;border-radius: 0.25em;background-color: #f0f8ff;}#sk-container-id-1 input.sk-toggleable__control:checked~div.sk-toggleable__content {max-height: 200px;max-width: 100%;overflow: auto;}#sk-container-id-1 input.sk-toggleable__control:checked~label.sk-toggleable__label-arrow:before {content: \"▾\";}#sk-container-id-1 div.sk-estimator input.sk-toggleable__control:checked~label.sk-toggleable__label {background-color: #d4ebff;}#sk-container-id-1 div.sk-label input.sk-toggleable__control:checked~label.sk-toggleable__label {background-color: #d4ebff;}#sk-container-id-1 input.sk-hidden--visually {border: 0;clip: rect(1px 1px 1px 1px);clip: rect(1px, 1px, 1px, 1px);height: 1px;margin: -1px;overflow: hidden;padding: 0;position: absolute;width: 1px;}#sk-container-id-1 div.sk-estimator {font-family: monospace;background-color: #f0f8ff;border: 1px dotted black;border-radius: 0.25em;box-sizing: border-box;margin-bottom: 0.5em;}#sk-container-id-1 div.sk-estimator:hover {background-color: #d4ebff;}#sk-container-id-1 div.sk-parallel-item::after {content: \"\";width: 100%;border-bottom: 1px solid gray;flex-grow: 1;}#sk-container-id-1 div.sk-label:hover label.sk-toggleable__label {background-color: #d4ebff;}#sk-container-id-1 div.sk-serial::before {content: \"\";position: absolute;border-left: 1px solid gray;box-sizing: border-box;top: 0;bottom: 0;left: 50%;z-index: 0;}#sk-container-id-1 div.sk-serial {display: flex;flex-direction: column;align-items: center;background-color: white;padding-right: 0.2em;padding-left: 0.2em;position: relative;}#sk-container-id-1 div.sk-item {position: relative;z-index: 1;}#sk-container-id-1 div.sk-parallel {display: flex;align-items: stretch;justify-content: center;background-color: white;position: relative;}#sk-container-id-1 div.sk-item::before, #sk-container-id-1 div.sk-parallel-item::before {content: \"\";position: absolute;border-left: 1px solid gray;box-sizing: border-box;top: 0;bottom: 0;left: 50%;z-index: -1;}#sk-container-id-1 div.sk-parallel-item {display: flex;flex-direction: column;z-index: 1;position: relative;background-color: white;}#sk-container-id-1 div.sk-parallel-item:first-child::after {align-self: flex-end;width: 50%;}#sk-container-id-1 div.sk-parallel-item:last-child::after {align-self: flex-start;width: 50%;}#sk-container-id-1 div.sk-parallel-item:only-child::after {width: 0;}#sk-container-id-1 div.sk-dashed-wrapped {border: 1px dashed gray;margin: 0 0.4em 0.5em 0.4em;box-sizing: border-box;padding-bottom: 0.4em;background-color: white;}#sk-container-id-1 div.sk-label label {font-family: monospace;font-weight: bold;display: inline-block;line-height: 1.2em;}#sk-container-id-1 div.sk-label-container {text-align: center;}#sk-container-id-1 div.sk-container {/* jupyter's `normalize.less` sets `[hidden] { display: none; }` but bootstrap.min.css set `[hidden] { display: none !important; }` so we also need the `!important` here to be able to override the default hidden behavior on the sphinx rendered scikit-learn.org. See: https://github.com/scikit-learn/scikit-learn/issues/21755 */display: inline-block !important;position: relative;}#sk-container-id-1 div.sk-text-repr-fallback {display: none;}</style><div id=\"sk-container-id-1\" class=\"sk-top-container\"><div class=\"sk-text-repr-fallback\"><pre>RandomForestClassifier(min_samples_leaf=2, random_state=43)</pre><b>In a Jupyter environment, please rerun this cell to show the HTML representation or trust the notebook. <br />On GitHub, the HTML representation is unable to render, please try loading this page with nbviewer.org.</b></div><div class=\"sk-container\" hidden><div class=\"sk-item\"><div class=\"sk-estimator sk-toggleable\"><input class=\"sk-toggleable__control sk-hidden--visually\" id=\"sk-estimator-id-1\" type=\"checkbox\" checked><label for=\"sk-estimator-id-1\" class=\"sk-toggleable__label sk-toggleable__label-arrow\">RandomForestClassifier</label><div class=\"sk-toggleable__content\"><pre>RandomForestClassifier(min_samples_leaf=2, random_state=43)</pre></div></div></div></div></div>"
      ],
      "text/plain": [
       "RandomForestClassifier(min_samples_leaf=2, random_state=43)"
      ]
     },
     "execution_count": 53,
     "metadata": {},
     "output_type": "execute_result"
    }
   ],
   "source": [
    "best_rf = RandomForestClassifier(**best_params, random_state=43)\n",
    "best_rf.fit(X_train, y_train)"
   ]
  },
  {
   "cell_type": "code",
   "execution_count": 54,
   "id": "3c4eee71",
   "metadata": {},
   "outputs": [
    {
     "name": "stdout",
     "output_type": "stream",
     "text": [
      " Training performance of Logistic Regression: \n",
      "               precision    recall  f1-score   support\n",
      "\n",
      "           0       1.00      1.00      1.00    150270\n",
      "           1       1.00      1.00      1.00    150270\n",
      "\n",
      "    accuracy                           1.00    300540\n",
      "   macro avg       1.00      1.00      1.00    300540\n",
      "weighted avg       1.00      1.00      1.00    300540\n",
      "\n",
      " Testing performance of Logistic Regression: \n",
      "               precision    recall  f1-score   support\n",
      "\n",
      "           0       1.00      1.00      1.00     73651\n",
      "           1       0.91      0.77      0.83        98\n",
      "\n",
      "    accuracy                           1.00     73749\n",
      "   macro avg       0.96      0.88      0.92     73749\n",
      "weighted avg       1.00      1.00      1.00     73749\n",
      "\n"
     ]
    }
   ],
   "source": [
    "# Make predictions\n",
    "y_train_pred = best_rf.predict(X_train)\n",
    "y_test_pred = best_rf.predict(X_test)\n",
    "\n",
    "print(f\" Training performance of Logistic Regression: \\n\",classification_report(y_train, y_train_pred))\n",
    "\n",
    "print(f\" Testing performance of Logistic Regression: \\n\",classification_report(y_test, y_test_pred))"
   ]
  },
  {
   "cell_type": "code",
   "execution_count": 55,
   "id": "e9ac8262",
   "metadata": {
    "scrolled": true
   },
   "outputs": [
    {
     "name": "stdout",
     "output_type": "stream",
     "text": [
      "Train Precision@k: 1.00, Train Recall@k: 0.00 for k=100\n",
      "Test Precision@k: 0.91, Test Recall@k: 0.77 for k=100\n",
      "Training average precision : 1.0\n",
      "Testing average precision  : 0.7\n",
      "ROC-AUC score: 0.883\n"
     ]
    }
   ],
   "source": [
    "print('Train Precision@k: {:.2f}, Train Recall@k: {:.2f} for k={}'.format(precision_at_k(y_train,y_train_pred),recall_at_k(y_train,y_train_pred),k))\n",
    "\n",
    "print('Test Precision@k: {:.2f}, Test Recall@k: {:.2f} for k={}'.format(precision_at_k(y_test,y_test_pred),recall_at_k(y_test,y_test_pred),k))\n",
    "    \n",
    "print(\"Training average precision :\",round(average_precision_score(y_train, y_train_pred),2))\n",
    "\n",
    "print(\"Testing average precision  :\",round(average_precision_score(y_test, y_test_pred),2))\n",
    " \n",
    "print(\"ROC-AUC score:\",round(roc_auc_score(y_test,y_test_pred),3))"
   ]
  },
  {
   "cell_type": "markdown",
   "id": "493b66e4",
   "metadata": {},
   "source": [
    "Out of the top 100 predictions, 91% of the predictions labelled as fraudulent were accurate.\n",
    "\n",
    "An average precision (AP) value of 0.7 indicates that the model achieved a precision of 70% on average across different positions in the ranked list."
   ]
  },
  {
   "cell_type": "code",
   "execution_count": 56,
   "id": "e8a9406f",
   "metadata": {},
   "outputs": [
    {
     "data": {
      "image/png": "[encoded data removed]",
      "text/plain": [
       "<Figure size 640x480 with 1 Axes>"
      ]
     },
     "metadata": {},
     "output_type": "display_data"
    }
   ],
   "source": [
    "# Compute the false positive rate (FPR), true positive rate (TPR), and thresholds\n",
    "fpr, tpr, thresholds = roc_curve(y_test, y_test_pred)\n",
    "\n",
    "# Compute the area under the ROC curve (AUC)\n",
    "roc_auc = auc(fpr, tpr)\n",
    "\n",
    "# Plot the ROC curve\n",
    "plt.plot(fpr, tpr, label='ROC curve (AUC = %0.2f)' % roc_auc)\n",
    "plt.plot([0, 1], [0, 1], 'k--')  # Plotting the diagonal line (random guessing)\n",
    "plt.xlim([0.0, 1.0])\n",
    "plt.ylim([0.0, 1.05])\n",
    "plt.xlabel('False Positive Rate (FPR)')\n",
    "plt.ylabel('True Positive Rate (TPR)')\n",
    "plt.title('Receiver Operating Characteristic (ROC) Curve')\n",
    "plt.legend(loc=\"lower right\")\n",
    "plt.show()"
   ]
  },
  {
   "cell_type": "code",
   "execution_count": 57,
   "id": "4bbc9294",
   "metadata": {},
   "outputs": [
    {
     "data": {
      "image/png": "[encoded data removed]",
      "text/plain": [
       "<Figure size 640x480 with 1 Axes>"
      ]
     },
     "metadata": {},
     "output_type": "display_data"
    }
   ],
   "source": [
    "# Calculate precision-recall curve\n",
    "precision, recall, thresholds = precision_recall_curve(y_test, y_test_pred)\n",
    "\n",
    "# Compute the area under the PR curve (AUC)\n",
    "pr = auc(recall, precision)\n",
    "\n",
    "# Plot the ROC curve\n",
    "plt.plot(recall, precision, label='PR curve (AUC = %0.2f)' % pr)\n",
    "plt.plot([0, 1], [0, 1], 'k--')  # Plotting the diagonal line (random guessing)\n",
    "plt.xlim([0.0, 1.0])\n",
    "plt.ylim([0.0, 1.05])\n",
    "plt.xlabel('Recall')\n",
    "plt.ylabel('Precision')\n",
    "plt.title('Precision Recall (PR) Curve')\n",
    "plt.legend(loc=\"lower right\")\n",
    "plt.show()"
   ]
  },
  {
   "cell_type": "markdown",
   "id": "f863cc1f",
   "metadata": {},
   "source": [
    "## Export model"
   ]
  },
  {
   "cell_type": "code",
   "execution_count": 58,
   "id": "f8fb0a28",
   "metadata": {},
   "outputs": [],
   "source": [
    "# Model filename\n",
    "filename = r'rf_model.pickle'"
   ]
  },
  {
   "cell_type": "code",
   "execution_count": 59,
   "id": "c593e0b6",
   "metadata": {},
   "outputs": [],
   "source": [
    "# Export file\n",
    "pk.dump(best_rf, open(EXPORT+filename, 'wb'))"
   ]
  }
 ],
 "metadata": {
  "kernelspec": {
   "display_name": "Python 3 (ipykernel)",
   "language": "python",
   "name": "python3"
  },
  "language_info": {
   "codemirror_mode": {
    "name": "ipython",
    "version": 3
   },
   "file_extension": ".py",
   "mimetype": "text/x-python",
   "name": "python",
   "nbconvert_exporter": "python",
   "pygments_lexer": "ipython3",
   "version": "3.9.16"
  }
 },
 "nbformat": 4,
 "nbformat_minor": 5
}
